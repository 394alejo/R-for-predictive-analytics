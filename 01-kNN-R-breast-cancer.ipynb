{
 "cells": [
  {
   "cell_type": "markdown",
   "metadata": {},
   "source": [
    "Diagnóstico del cáncer de mama\n",
    "===\n",
    "\n",
    "**Juan David Velásquez Henao**  \n",
    "jdvelasq@unal.edu.co   \n",
    "Universidad Nacional de Colombia, Sede Medellín  \n",
    "Facultad de Minas  \n",
    "Medellín, Colombia\n",
    "\n",
    "---\n",
    "\n",
    "Haga click [aquí](https://github.com/jdvelasq/predictive-modeling/blob/master/01-kNN-R-breast-cancer.ipynb) para acceder a la última versión online.\n",
    "\n",
    "Haga click [aquí](http://nbviewer.jupyter.org/github/jdvelasq/predictive-modeling/blob/master/01-kNN-R-breast-cancer.ipynb) para ver la última versión online en `nbviewer`. \n",
    "\n",
    "---\n",
    "[Licencia](https://github.com/jdvelasq/predictive-modeling/blob/master/LICENCIA.txt)  \n",
    "[Readme](https://github.com/jdvelasq/predictive-modeling/blob/master/readme.md)"
   ]
  },
  {
   "cell_type": "markdown",
   "metadata": {},
   "source": [
    "# Definición del problema real"
   ]
  },
  {
   "cell_type": "markdown",
   "metadata": {},
   "source": [
    "Se desea determinar si una masa mamaria es un tumor benigno o maligno, a partir de las medidas obtenidas de imágenes digitalizadas de la aspiración con una aguja fina. Los valores representan las características de los núcleos celulares presentes en la imagen digital. "
   ]
  },
  {
   "cell_type": "markdown",
   "metadata": {
    "collapsed": true
   },
   "source": [
    "# Definición del problema en términos de los datos"
   ]
  },
  {
   "cell_type": "markdown",
   "metadata": {
    "collapsed": true
   },
   "source": [
    "Se tiene una muestra de 569 ejemplos de resultados de las biopsias. Cada registro contiene 32 variables, las cuales corresponden a tres medidas (media, desviación estándar, peor caso) de diez características diferentes (radius, texture, ...).\n",
    "\n",
    "* Identification number\n",
    "* Cancer diagnosis (\"M\" para maligno y \"B\" para benigno)\n",
    "* Radius\n",
    "* Texture\n",
    "* Perimeter\n",
    "* Area\n",
    "* Smoothness\n",
    "* Compactness\n",
    "* Concavity\n",
    "* Concave points\n",
    "* Symmetry\n",
    "* Fractal dimension\n",
    "\n",
    "En términos de los datos, se desea pronosticar si una masa es benigna o maligna (clase B o M) a partir de las 30 variables.\n",
    "\n",
    "Fuente de los datos: https://archive.ics.uci.edu/ml/datasets/Breast+Cancer+Wisconsin+(Diagnostic)"
   ]
  },
  {
   "cell_type": "markdown",
   "metadata": {
    "collapsed": true
   },
   "source": [
    "# Exploración"
   ]
  },
  {
   "cell_type": "code",
   "execution_count": 1,
   "metadata": {
    "collapsed": true
   },
   "outputs": [],
   "source": [
    "# Carga de los datos\n",
    "wbcd <- read.csv(\"data/wisc_bc_data.csv\", stringsAsFactors = FALSE)"
   ]
  },
  {
   "cell_type": "code",
   "execution_count": 2,
   "metadata": {},
   "outputs": [
    {
     "name": "stdout",
     "output_type": "stream",
     "text": [
      "'data.frame':\t569 obs. of  32 variables:\n",
      " $ id                     : int  842302 842517 84300903 84348301 84358402 843786 844359 84458202 844981 84501001 ...\n",
      " $ diagnosis              : chr  \"M\" \"M\" \"M\" \"M\" ...\n",
      " $ radius_mean            : num  18 20.6 19.7 11.4 20.3 ...\n",
      " $ texture_mean           : num  10.4 17.8 21.2 20.4 14.3 ...\n",
      " $ perimeter_mean         : num  122.8 132.9 130 77.6 135.1 ...\n",
      " $ area_mean              : num  1001 1326 1203 386 1297 ...\n",
      " $ smoothness_mean        : num  0.1184 0.0847 0.1096 0.1425 0.1003 ...\n",
      " $ compactness_mean       : num  0.2776 0.0786 0.1599 0.2839 0.1328 ...\n",
      " $ concavity_mean         : num  0.3001 0.0869 0.1974 0.2414 0.198 ...\n",
      " $ concave.points_mean    : num  0.1471 0.0702 0.1279 0.1052 0.1043 ...\n",
      " $ symmetry_mean          : num  0.242 0.181 0.207 0.26 0.181 ...\n",
      " $ fractal_dimension_mean : num  0.0787 0.0567 0.06 0.0974 0.0588 ...\n",
      " $ radius_se              : num  1.095 0.543 0.746 0.496 0.757 ...\n",
      " $ texture_se             : num  0.905 0.734 0.787 1.156 0.781 ...\n",
      " $ perimeter_se           : num  8.59 3.4 4.58 3.44 5.44 ...\n",
      " $ area_se                : num  153.4 74.1 94 27.2 94.4 ...\n",
      " $ smoothness_se          : num  0.0064 0.00522 0.00615 0.00911 0.01149 ...\n",
      " $ compactness_se         : num  0.049 0.0131 0.0401 0.0746 0.0246 ...\n",
      " $ concavity_se           : num  0.0537 0.0186 0.0383 0.0566 0.0569 ...\n",
      " $ concave.points_se      : num  0.0159 0.0134 0.0206 0.0187 0.0188 ...\n",
      " $ symmetry_se            : num  0.03 0.0139 0.0225 0.0596 0.0176 ...\n",
      " $ fractal_dimension_se   : num  0.00619 0.00353 0.00457 0.00921 0.00511 ...\n",
      " $ radius_worst           : num  25.4 25 23.6 14.9 22.5 ...\n",
      " $ texture_worst          : num  17.3 23.4 25.5 26.5 16.7 ...\n",
      " $ perimeter_worst        : num  184.6 158.8 152.5 98.9 152.2 ...\n",
      " $ area_worst             : num  2019 1956 1709 568 1575 ...\n",
      " $ smoothness_worst       : num  0.162 0.124 0.144 0.21 0.137 ...\n",
      " $ compactness_worst      : num  0.666 0.187 0.424 0.866 0.205 ...\n",
      " $ concavity_worst        : num  0.712 0.242 0.45 0.687 0.4 ...\n",
      " $ concave.points_worst   : num  0.265 0.186 0.243 0.258 0.163 ...\n",
      " $ symmetry_worst         : num  0.46 0.275 0.361 0.664 0.236 ...\n",
      " $ fractal_dimension_worst: num  0.1189 0.089 0.0876 0.173 0.0768 ...\n"
     ]
    }
   ],
   "source": [
    "# Verificación de los datos cargados\n",
    "# La columna diagnosis corresponde al dianóstico.\n",
    "str(wbcd)"
   ]
  },
  {
   "cell_type": "code",
   "execution_count": 3,
   "metadata": {
    "collapsed": true
   },
   "outputs": [],
   "source": [
    "# Se excluye la primera columna ya que no es informativa\n",
    "# (corresponde al id del caso).\n",
    "wbcd <- wbcd[-1]"
   ]
  },
  {
   "cell_type": "code",
   "execution_count": 4,
   "metadata": {},
   "outputs": [
    {
     "data": {
      "text/plain": [
       "\n",
       "  B   M \n",
       "357 212 "
      ]
     },
     "metadata": {},
     "output_type": "display_data"
    }
   ],
   "source": [
    "# Cantidad de casos para cada diagnóstico.\n",
    "table(wbcd$diagnosis)"
   ]
  },
  {
   "cell_type": "code",
   "execution_count": 5,
   "metadata": {
    "collapsed": true
   },
   "outputs": [],
   "source": [
    "# Se convierte la columna diagnosis de character a factor.\n",
    "wbcd$diagnosis <- \n",
    "  factor(wbcd$diagnosis, \n",
    "         levels = c(\"B\", \"M\"),              # las letras B y M se convierten en factores\n",
    "         labels = c(\"Benign\", \"Malignant\")) # se dan nuevos nombres a los factores"
   ]
  },
  {
   "cell_type": "code",
   "execution_count": 6,
   "metadata": {},
   "outputs": [
    {
     "data": {
      "text/plain": [
       "\n",
       "   Benign Malignant \n",
       "      357       212 "
      ]
     },
     "metadata": {},
     "output_type": "display_data"
    }
   ],
   "source": [
    "# Cantidad de casos para cada diagnostico.\n",
    "# Note que los nombres son más informativos.\n",
    "table(wbcd$diagnosis)"
   ]
  },
  {
   "cell_type": "code",
   "execution_count": 7,
   "metadata": {
    "scrolled": true
   },
   "outputs": [
    {
     "data": {
      "text/plain": [
       "\n",
       "   Benign Malignant \n",
       "     62.7      37.3 "
      ]
     },
     "metadata": {},
     "output_type": "display_data"
    }
   ],
   "source": [
    "# Se convierte el conteo en probabilidades.\n",
    "round(prop.table(table(wbcd$diagnosis)) * 100, digits = 1)"
   ]
  },
  {
   "cell_type": "markdown",
   "metadata": {},
   "source": [
    "# Metodología k-NN"
   ]
  },
  {
   "cell_type": "markdown",
   "metadata": {},
   "source": [
    "El problema en términos matemáticos se define de la siguiente forma. \n",
    "* Se tienen $M$ ejemplos (las 569 observaciones del problema analizado).  \n",
    "* Cada ejemplo esta definido por un conjunto de variables ($x_1$, $x_2$, ..., $x_N$); es decir, las 30 columnas de datos.\n",
    "* Cada ejemplo pertenece a una clase y hay $P$ clases diferentes; en el caso analizado sólo hay dos clases: benigno o maligno. \n",
    "* Para un nuevo caso (tumor) y con base en las 30 mediciones realizadas (variables), se desea pronosticar a que clase pertenece (maligno o benigno). "
   ]
  },
  {
   "cell_type": "markdown",
   "metadata": {},
   "source": [
    "El método k-NN asígna una clase (de las $P$ posibles) al nuevo ejemplo en dos pasos. En el primer paso, determina los $k$ ejemplos más cercanos (distancia) al nuevo ejemplo; en el segundo paso, asigna la clase al nuevo punto por mayoría; es decir, asigna la clase con mayor frecuencia entre los $k$ vecinos más cercnos. Por ejemplo, si se consideran 7 vecinos, de los cuales 5 son \"benignos\" (y 2 \"malignos\") entonces el nuevo punto es clasificado como \"benigno\"."
   ]
  },
  {
   "cell_type": "markdown",
   "metadata": {},
   "source": [
    "La lógica de este método se basa en el siguiente razonamiento: Si un nuevo patrón (ejemplo) es más cercano en distancia a los ejemplos de la clase A que a los ejemplos de la clase B, entonces pertenece a la clase A y viceversa. En la siguiente figura, el punto azul se asignaría a la clases 2 y el punto rojo a la clase 1."
   ]
  },
  {
   "cell_type": "markdown",
   "metadata": {},
   "source": [
    "![alt text](images/kmeans.jpg)"
   ]
  },
  {
   "cell_type": "markdown",
   "metadata": {},
   "source": [
    "Desafortunadamente, el método no es capaz de detectar patrones que son lejanos de los patrones de entrenamiento, tal como ocurre para el punto verde de la figura anterior.  "
   ]
  },
  {
   "cell_type": "markdown",
   "metadata": {},
   "source": [
    "La distancia entre dos puntos $p$ y $q$ es:\n",
    "\n",
    "$$dist(p, q) = \\sqrt{\\sum_{i=1}^N (p_i - q_i)^2}$$\n"
   ]
  },
  {
   "cell_type": "markdown",
   "metadata": {},
   "source": [
    "**Ejercicio.** ¿Cómo se implementa computacionalmente este algoritmo?"
   ]
  },
  {
   "cell_type": "markdown",
   "metadata": {},
   "source": [
    "Ya que la escala de las variables numéricas afecta la medición, se pueden realizar dos transformaciones:\n",
    "\n",
    "**Normalización min-max**.\n",
    "\n",
    "$$z_j = \\frac{x - \\text{min}(x_j)}{\\text{max}(x_j) - \\text{min}(x_j)}$$ \n",
    "\n",
    "**Estandarización z.**\n",
    "\n",
    "$$z_j = \\frac{x - \\text{mean}(x_j)}{\\text{std}(x_j) }$$ \n",
    "\n"
   ]
  },
  {
   "cell_type": "markdown",
   "metadata": {},
   "source": [
    "Para variables nominales que representan $S$ categorías se crean $S-1$ variables: la primera variable vale 1 si la variable nominal toma el valor de la primera categoría; la segunda variable vale 2 si la variable nominal toma el valor de la segunda categoría, y así sucesivamente. ¿Por qué se requieren $S-1$ variables para $S$ categorías de la variable nominal?.  "
   ]
  },
  {
   "cell_type": "markdown",
   "metadata": {},
   "source": [
    "# Preparación de los datos"
   ]
  },
  {
   "cell_type": "code",
   "execution_count": 8,
   "metadata": {},
   "outputs": [
    {
     "data": {
      "text/plain": [
       "  radius_mean      texture_mean   perimeter_mean     area_mean     \n",
       " Min.   : 6.981   Min.   : 9.71   Min.   : 43.79   Min.   : 143.5  \n",
       " 1st Qu.:11.700   1st Qu.:16.17   1st Qu.: 75.17   1st Qu.: 420.3  \n",
       " Median :13.370   Median :18.84   Median : 86.24   Median : 551.1  \n",
       " Mean   :14.127   Mean   :19.29   Mean   : 91.97   Mean   : 654.9  \n",
       " 3rd Qu.:15.780   3rd Qu.:21.80   3rd Qu.:104.10   3rd Qu.: 782.7  \n",
       " Max.   :28.110   Max.   :39.28   Max.   :188.50   Max.   :2501.0  \n",
       " smoothness_mean   compactness_mean  concavity_mean    concave.points_mean\n",
       " Min.   :0.05263   Min.   :0.01938   Min.   :0.00000   Min.   :0.00000    \n",
       " 1st Qu.:0.08637   1st Qu.:0.06492   1st Qu.:0.02956   1st Qu.:0.02031    \n",
       " Median :0.09587   Median :0.09263   Median :0.06154   Median :0.03350    \n",
       " Mean   :0.09636   Mean   :0.10434   Mean   :0.08880   Mean   :0.04892    \n",
       " 3rd Qu.:0.10530   3rd Qu.:0.13040   3rd Qu.:0.13070   3rd Qu.:0.07400    \n",
       " Max.   :0.16340   Max.   :0.34540   Max.   :0.42680   Max.   :0.20120    \n",
       " symmetry_mean    fractal_dimension_mean   radius_se        texture_se    \n",
       " Min.   :0.1060   Min.   :0.04996        Min.   :0.1115   Min.   :0.3602  \n",
       " 1st Qu.:0.1619   1st Qu.:0.05770        1st Qu.:0.2324   1st Qu.:0.8339  \n",
       " Median :0.1792   Median :0.06154        Median :0.3242   Median :1.1080  \n",
       " Mean   :0.1812   Mean   :0.06280        Mean   :0.4052   Mean   :1.2169  \n",
       " 3rd Qu.:0.1957   3rd Qu.:0.06612        3rd Qu.:0.4789   3rd Qu.:1.4740  \n",
       " Max.   :0.3040   Max.   :0.09744        Max.   :2.8730   Max.   :4.8850  \n",
       "  perimeter_se       area_se        smoothness_se      compactness_se    \n",
       " Min.   : 0.757   Min.   :  6.802   Min.   :0.001713   Min.   :0.002252  \n",
       " 1st Qu.: 1.606   1st Qu.: 17.850   1st Qu.:0.005169   1st Qu.:0.013080  \n",
       " Median : 2.287   Median : 24.530   Median :0.006380   Median :0.020450  \n",
       " Mean   : 2.866   Mean   : 40.337   Mean   :0.007041   Mean   :0.025478  \n",
       " 3rd Qu.: 3.357   3rd Qu.: 45.190   3rd Qu.:0.008146   3rd Qu.:0.032450  \n",
       " Max.   :21.980   Max.   :542.200   Max.   :0.031130   Max.   :0.135400  \n",
       "  concavity_se     concave.points_se   symmetry_se       fractal_dimension_se\n",
       " Min.   :0.00000   Min.   :0.000000   Min.   :0.007882   Min.   :0.0008948   \n",
       " 1st Qu.:0.01509   1st Qu.:0.007638   1st Qu.:0.015160   1st Qu.:0.0022480   \n",
       " Median :0.02589   Median :0.010930   Median :0.018730   Median :0.0031870   \n",
       " Mean   :0.03189   Mean   :0.011796   Mean   :0.020542   Mean   :0.0037949   \n",
       " 3rd Qu.:0.04205   3rd Qu.:0.014710   3rd Qu.:0.023480   3rd Qu.:0.0045580   \n",
       " Max.   :0.39600   Max.   :0.052790   Max.   :0.078950   Max.   :0.0298400   \n",
       "  radius_worst   texture_worst   perimeter_worst    area_worst    \n",
       " Min.   : 7.93   Min.   :12.02   Min.   : 50.41   Min.   : 185.2  \n",
       " 1st Qu.:13.01   1st Qu.:21.08   1st Qu.: 84.11   1st Qu.: 515.3  \n",
       " Median :14.97   Median :25.41   Median : 97.66   Median : 686.5  \n",
       " Mean   :16.27   Mean   :25.68   Mean   :107.26   Mean   : 880.6  \n",
       " 3rd Qu.:18.79   3rd Qu.:29.72   3rd Qu.:125.40   3rd Qu.:1084.0  \n",
       " Max.   :36.04   Max.   :49.54   Max.   :251.20   Max.   :4254.0  \n",
       " smoothness_worst  compactness_worst concavity_worst  concave.points_worst\n",
       " Min.   :0.07117   Min.   :0.02729   Min.   :0.0000   Min.   :0.00000     \n",
       " 1st Qu.:0.11660   1st Qu.:0.14720   1st Qu.:0.1145   1st Qu.:0.06493     \n",
       " Median :0.13130   Median :0.21190   Median :0.2267   Median :0.09993     \n",
       " Mean   :0.13237   Mean   :0.25427   Mean   :0.2722   Mean   :0.11461     \n",
       " 3rd Qu.:0.14600   3rd Qu.:0.33910   3rd Qu.:0.3829   3rd Qu.:0.16140     \n",
       " Max.   :0.22260   Max.   :1.05800   Max.   :1.2520   Max.   :0.29100     \n",
       " symmetry_worst   fractal_dimension_worst\n",
       " Min.   :0.1565   Min.   :0.05504        \n",
       " 1st Qu.:0.2504   1st Qu.:0.07146        \n",
       " Median :0.2822   Median :0.08004        \n",
       " Mean   :0.2901   Mean   :0.08395        \n",
       " 3rd Qu.:0.3179   3rd Qu.:0.09208        \n",
       " Max.   :0.6638   Max.   :0.20750        "
      ]
     },
     "metadata": {},
     "output_type": "display_data"
    }
   ],
   "source": [
    "# se examina el rango de las variables\n",
    "summary(wbcd[2:31])"
   ]
  },
  {
   "cell_type": "markdown",
   "metadata": {},
   "source": [
    "Note que la información visualizada muestra que las variables tienen diferentes rangos, lo que afecta la medición de las distancias, y habría variables que pesarían más en la medición respecto a otras. Para corregir este problema se normalizan las variables."
   ]
  },
  {
   "cell_type": "code",
   "execution_count": 9,
   "metadata": {
    "collapsed": true
   },
   "outputs": [],
   "source": [
    "# se define la función de normalización\n",
    "normalize <- \n",
    "function(x) {\n",
    "    return ((x - min(x)) / (max(x) - min(x)))\n",
    "}"
   ]
  },
  {
   "cell_type": "code",
   "execution_count": 10,
   "metadata": {
    "collapsed": true
   },
   "outputs": [],
   "source": [
    "# se aplica la función a los datos\n",
    "wbcd_n <- as.data.frame(lapply(wbcd[2:31], normalize))"
   ]
  },
  {
   "cell_type": "code",
   "execution_count": 11,
   "metadata": {},
   "outputs": [
    {
     "data": {
      "text/plain": [
       "  radius_mean      texture_mean    perimeter_mean     area_mean     \n",
       " Min.   :0.0000   Min.   :0.0000   Min.   :0.0000   Min.   :0.0000  \n",
       " 1st Qu.:0.2233   1st Qu.:0.2185   1st Qu.:0.2168   1st Qu.:0.1174  \n",
       " Median :0.3024   Median :0.3088   Median :0.2933   Median :0.1729  \n",
       " Mean   :0.3382   Mean   :0.3240   Mean   :0.3329   Mean   :0.2169  \n",
       " 3rd Qu.:0.4164   3rd Qu.:0.4089   3rd Qu.:0.4168   3rd Qu.:0.2711  \n",
       " Max.   :1.0000   Max.   :1.0000   Max.   :1.0000   Max.   :1.0000  \n",
       " smoothness_mean  compactness_mean concavity_mean    concave.points_mean\n",
       " Min.   :0.0000   Min.   :0.0000   Min.   :0.00000   Min.   :0.0000     \n",
       " 1st Qu.:0.3046   1st Qu.:0.1397   1st Qu.:0.06926   1st Qu.:0.1009     \n",
       " Median :0.3904   Median :0.2247   Median :0.14419   Median :0.1665     \n",
       " Mean   :0.3948   Mean   :0.2606   Mean   :0.20806   Mean   :0.2431     \n",
       " 3rd Qu.:0.4755   3rd Qu.:0.3405   3rd Qu.:0.30623   3rd Qu.:0.3678     \n",
       " Max.   :1.0000   Max.   :1.0000   Max.   :1.00000   Max.   :1.0000     \n",
       " symmetry_mean    fractal_dimension_mean   radius_se         texture_se    \n",
       " Min.   :0.0000   Min.   :0.0000         Min.   :0.00000   Min.   :0.0000  \n",
       " 1st Qu.:0.2823   1st Qu.:0.1630         1st Qu.:0.04378   1st Qu.:0.1047  \n",
       " Median :0.3697   Median :0.2439         Median :0.07702   Median :0.1653  \n",
       " Mean   :0.3796   Mean   :0.2704         Mean   :0.10635   Mean   :0.1893  \n",
       " 3rd Qu.:0.4530   3rd Qu.:0.3404         3rd Qu.:0.13304   3rd Qu.:0.2462  \n",
       " Max.   :1.0000   Max.   :1.0000         Max.   :1.00000   Max.   :1.0000  \n",
       "  perimeter_se        area_se        smoothness_se    compactness_se   \n",
       " Min.   :0.00000   Min.   :0.00000   Min.   :0.0000   Min.   :0.00000  \n",
       " 1st Qu.:0.04000   1st Qu.:0.02064   1st Qu.:0.1175   1st Qu.:0.08132  \n",
       " Median :0.07209   Median :0.03311   Median :0.1586   Median :0.13667  \n",
       " Mean   :0.09938   Mean   :0.06264   Mean   :0.1811   Mean   :0.17444  \n",
       " 3rd Qu.:0.12251   3rd Qu.:0.07170   3rd Qu.:0.2187   3rd Qu.:0.22680  \n",
       " Max.   :1.00000   Max.   :1.00000   Max.   :1.0000   Max.   :1.00000  \n",
       "  concavity_se     concave.points_se  symmetry_se     fractal_dimension_se\n",
       " Min.   :0.00000   Min.   :0.0000    Min.   :0.0000   Min.   :0.00000     \n",
       " 1st Qu.:0.03811   1st Qu.:0.1447    1st Qu.:0.1024   1st Qu.:0.04675     \n",
       " Median :0.06538   Median :0.2070    Median :0.1526   Median :0.07919     \n",
       " Mean   :0.08054   Mean   :0.2235    Mean   :0.1781   Mean   :0.10019     \n",
       " 3rd Qu.:0.10619   3rd Qu.:0.2787    3rd Qu.:0.2195   3rd Qu.:0.12656     \n",
       " Max.   :1.00000   Max.   :1.0000    Max.   :1.0000   Max.   :1.00000     \n",
       "  radius_worst    texture_worst    perimeter_worst    area_worst     \n",
       " Min.   :0.0000   Min.   :0.0000   Min.   :0.0000   Min.   :0.00000  \n",
       " 1st Qu.:0.1807   1st Qu.:0.2415   1st Qu.:0.1678   1st Qu.:0.08113  \n",
       " Median :0.2504   Median :0.3569   Median :0.2353   Median :0.12321  \n",
       " Mean   :0.2967   Mean   :0.3640   Mean   :0.2831   Mean   :0.17091  \n",
       " 3rd Qu.:0.3863   3rd Qu.:0.4717   3rd Qu.:0.3735   3rd Qu.:0.22090  \n",
       " Max.   :1.0000   Max.   :1.0000   Max.   :1.0000   Max.   :1.00000  \n",
       " smoothness_worst compactness_worst concavity_worst   concave.points_worst\n",
       " Min.   :0.0000   Min.   :0.0000    Min.   :0.00000   Min.   :0.0000      \n",
       " 1st Qu.:0.3000   1st Qu.:0.1163    1st Qu.:0.09145   1st Qu.:0.2231      \n",
       " Median :0.3971   Median :0.1791    Median :0.18107   Median :0.3434      \n",
       " Mean   :0.4041   Mean   :0.2202    Mean   :0.21740   Mean   :0.3938      \n",
       " 3rd Qu.:0.4942   3rd Qu.:0.3025    3rd Qu.:0.30583   3rd Qu.:0.5546      \n",
       " Max.   :1.0000   Max.   :1.0000    Max.   :1.00000   Max.   :1.0000      \n",
       " symmetry_worst   fractal_dimension_worst\n",
       " Min.   :0.0000   Min.   :0.0000         \n",
       " 1st Qu.:0.1851   1st Qu.:0.1077         \n",
       " Median :0.2478   Median :0.1640         \n",
       " Mean   :0.2633   Mean   :0.1896         \n",
       " 3rd Qu.:0.3182   3rd Qu.:0.2429         \n",
       " Max.   :1.0000   Max.   :1.0000         "
      ]
     },
     "metadata": {},
     "output_type": "display_data"
    }
   ],
   "source": [
    "# se verifica la transformación\n",
    "summary(wbcd_n)"
   ]
  },
  {
   "cell_type": "code",
   "execution_count": 12,
   "metadata": {
    "collapsed": true
   },
   "outputs": [],
   "source": [
    "# se crean los conjuntos de entrenamiento y prueba\n",
    "wbcd_train <- wbcd_n[1:469, ]\n",
    "wbcd_test <- wbcd_n[470:569, ]\n",
    "\n",
    "# clase de cada ejemplo\n",
    "wbcd_train_labels <- wbcd[1:469, 1]\n",
    "wbcd_test_labels <- wbcd[470:569, 1]"
   ]
  },
  {
   "cell_type": "markdown",
   "metadata": {},
   "source": [
    "# Entrenamiento del modelo"
   ]
  },
  {
   "cell_type": "markdown",
   "metadata": {},
   "source": [
    "Este no es propiamente un entrenamiento ya que no hay parámetros que estimar."
   ]
  },
  {
   "cell_type": "code",
   "execution_count": 13,
   "metadata": {
    "collapsed": true
   },
   "outputs": [],
   "source": [
    "# carga la librería\n",
    "# install.packages(\"class\")\n",
    "library(class)\n",
    "wbcd_test_pred <- knn(train = wbcd_train,     # conjunto de entrenamiento\n",
    "                      test = wbcd_test,       # conjutno de prueba\n",
    "                      cl = wbcd_train_labels, # clases para el conjunto de entrenamiento\n",
    "                      k = 21)                 # número de vecinos"
   ]
  },
  {
   "cell_type": "markdown",
   "metadata": {},
   "source": [
    "# Evaluación del modelo"
   ]
  },
  {
   "cell_type": "markdown",
   "metadata": {},
   "source": [
    "Para evaluar el desempeño en problemas de clasificación dicotómicos (dos clases mutuamente excluyentes) se usa la siguiente tabla:\n",
    "\n",
    "\n",
    "             | Pronostico\n",
    "             |  P     N\n",
    "    ---------|------------  \n",
    "          P  |  TP    FN          \n",
    "    Real     |\n",
    "          N  |  FP    TN\n",
    "    \n",
    "    TP - Verdadero positivo (correcto)\n",
    "    TN - Verdadero negativo (correcto)\n",
    "    FN - Falso negativo (mal clasificado)\n",
    "    FP - Falso positivo (mal clasificado)\n",
    "    \n",
    "La medición de la precisión del modelo permite estimar el desempeño del modelo ante nuevos datos."
   ]
  },
  {
   "cell_type": "code",
   "execution_count": 14,
   "metadata": {},
   "outputs": [
    {
     "data": {
      "text/plain": [
       "                wbcd_test_pred\n",
       "wbcd_test_labels Benign Malignant\n",
       "       Benign        77         0\n",
       "       Malignant      2        21"
      ]
     },
     "metadata": {},
     "output_type": "display_data"
    }
   ],
   "source": [
    "# Se calcula la matriz de confusión.\n",
    "# La tabla indica que se calcularon 77+21 patrones \n",
    "# correctamente, y que dos tumores malignos se \n",
    "# dianosticaron como benignos. Se clasificaron\n",
    "# cero tumores benignos como malignos.\n",
    "table(wbcd_test_labels, wbcd_test_pred)"
   ]
  },
  {
   "cell_type": "markdown",
   "metadata": {},
   "source": [
    "A partir de la matriz de confusión es posible calcular diferentes métricas de error."
   ]
  },
  {
   "cell_type": "markdown",
   "metadata": {},
   "source": [
    "* Tasa de éxito (porcentaje de patrones clasificados correctamente):\n",
    "\n",
    "\n",
    "$$\\text{success rate} = \\frac{\\text{TP} + \\text{TN}}{\\text{TP} + \\text{TN} + \\text{FP} + \\text{FN}}$$"
   ]
  },
  {
   "cell_type": "code",
   "execution_count": 15,
   "metadata": {},
   "outputs": [
    {
     "data": {
      "text/html": [
       "0.98"
      ],
      "text/latex": [
       "0.98"
      ],
      "text/markdown": [
       "0.98"
      ],
      "text/plain": [
       "[1] 0.98"
      ]
     },
     "metadata": {},
     "output_type": "display_data"
    }
   ],
   "source": [
    "(77 + 21) / ( 77 + 21 + 2 + 0)"
   ]
  },
  {
   "cell_type": "markdown",
   "metadata": {},
   "source": [
    "* Tasa de error (porcentaje de patrones clasificados incorrectamente):\n",
    "\n",
    "$$\\text{error rate} = \\frac{\\text{FP} + \\text{FN}}{\\text{TP} + \\text{TN} + \\text{FP} + \\text{FN}} = 1 - \\text{accuracy}$$"
   ]
  },
  {
   "cell_type": "code",
   "execution_count": 16,
   "metadata": {
    "scrolled": true
   },
   "outputs": [
    {
     "data": {
      "text/html": [
       "0.02"
      ],
      "text/latex": [
       "0.02"
      ],
      "text/markdown": [
       "0.02"
      ],
      "text/plain": [
       "[1] 0.02"
      ]
     },
     "metadata": {},
     "output_type": "display_data"
    }
   ],
   "source": [
    "(2 + 0) / ( 77 + 21 + 2 + 0)"
   ]
  },
  {
   "cell_type": "markdown",
   "metadata": {},
   "source": [
    "* Predominio: número total de casos positivos pronósticados respecto al número total de casos.\n",
    "\n",
    "\n",
    "$$\\text{prevalence} = \\frac{\\text{TP} + \\text{FN}}{\\text{TP} + \\text{TN} + \\text{FP} + \\text{FN}}$$"
   ]
  },
  {
   "cell_type": "markdown",
   "metadata": {},
   "source": [
    "Las siguientes dos métricas representan un balance entre lo conservador y agresivo de un clasificador. Es decir, se podría desear que se clasifique correctamente todas las masas mamarias benignas, pero esto implica que también se clasificarán como benignas masas cancerosas. De forma inversa, se puede desear que se clasifiquen correctamente todas las masas cancerosas, pero esto a su vez implica que algunas masas benignas se clasifiquen como cancerosas. "
   ]
  },
  {
   "cell_type": "code",
   "execution_count": 17,
   "metadata": {},
   "outputs": [
    {
     "name": "stderr",
     "output_type": "stream",
     "text": [
      "Loading required package: lattice\n",
      "Loading required package: ggplot2\n"
     ]
    }
   ],
   "source": [
    "library(caret)"
   ]
  },
  {
   "cell_type": "markdown",
   "metadata": {},
   "source": [
    "* Sensibilidad o tasa verdadera positiva: mide la proporción de ejemplos positivos que fueron correctamente clasificados.\n",
    "\n",
    "\n",
    "$$\\text{sensitibity} = \\frac{\\text{TP}}{\\text{TP}  + \\text{FN}}$$"
   ]
  },
  {
   "cell_type": "code",
   "execution_count": 18,
   "metadata": {},
   "outputs": [
    {
     "data": {
      "text/html": [
       "1"
      ],
      "text/latex": [
       "1"
      ],
      "text/markdown": [
       "1"
      ],
      "text/plain": [
       "[1] 1"
      ]
     },
     "metadata": {},
     "output_type": "display_data"
    }
   ],
   "source": [
    "77 / (77 + 0)"
   ]
  },
  {
   "cell_type": "code",
   "execution_count": 19,
   "metadata": {},
   "outputs": [
    {
     "data": {
      "text/html": [
       "1"
      ],
      "text/latex": [
       "1"
      ],
      "text/markdown": [
       "1"
      ],
      "text/plain": [
       "[1] 1"
      ]
     },
     "metadata": {},
     "output_type": "display_data"
    }
   ],
   "source": [
    "sensitivity(wbcd_test_pred, \n",
    "            wbcd_test_labels,\n",
    "            positive = \"Benign\")"
   ]
  },
  {
   "cell_type": "markdown",
   "metadata": {},
   "source": [
    "* Especifidad o tasa verdadera negativa: mide la proporción de ejemplos negativos correctamente clasificados.\n",
    "\n",
    "\n",
    "$$\\text{specifity} = \\frac{\\text{TN}}{\\text{TN}  + \\text{FP}}$$"
   ]
  },
  {
   "cell_type": "code",
   "execution_count": 20,
   "metadata": {},
   "outputs": [
    {
     "data": {
      "text/html": [
       "0.91304347826087"
      ],
      "text/latex": [
       "0.91304347826087"
      ],
      "text/markdown": [
       "0.91304347826087"
      ],
      "text/plain": [
       "[1] 0.9130435"
      ]
     },
     "metadata": {},
     "output_type": "display_data"
    }
   ],
   "source": [
    "21 / (21 + 2)"
   ]
  },
  {
   "cell_type": "code",
   "execution_count": 21,
   "metadata": {},
   "outputs": [
    {
     "data": {
      "text/html": [
       "0.91304347826087"
      ],
      "text/latex": [
       "0.91304347826087"
      ],
      "text/markdown": [
       "0.91304347826087"
      ],
      "text/plain": [
       "[1] 0.9130435"
      ]
     },
     "metadata": {},
     "output_type": "display_data"
    }
   ],
   "source": [
    "specificity(wbcd_test_pred, \n",
    "            wbcd_test_labels,\n",
    "            positive = \"Benign\")"
   ]
  },
  {
   "cell_type": "markdown",
   "metadata": {},
   "source": [
    "* Precisión o valor predictivo positivo: Proporción de casos positivos que fueron verdaderamente positivos.\n",
    "\n",
    "\n",
    "$$\\text{precision} = \\frac{\\text{TP}}{\\text{TP}  + \\text{FP}}$$"
   ]
  },
  {
   "cell_type": "code",
   "execution_count": 22,
   "metadata": {},
   "outputs": [
    {
     "data": {
      "text/html": [
       "0.974683544303797"
      ],
      "text/latex": [
       "0.974683544303797"
      ],
      "text/markdown": [
       "0.974683544303797"
      ],
      "text/plain": [
       "[1] 0.9746835"
      ]
     },
     "metadata": {},
     "output_type": "display_data"
    }
   ],
   "source": [
    "77 / (77 + 2)"
   ]
  },
  {
   "cell_type": "code",
   "execution_count": 23,
   "metadata": {},
   "outputs": [
    {
     "data": {
      "text/html": [
       "&lt;NA&gt;"
      ],
      "text/latex": [
       "<NA>"
      ],
      "text/markdown": [
       "&lt;NA&gt;"
      ],
      "text/plain": [
       "[1] NA"
      ]
     },
     "metadata": {},
     "output_type": "display_data"
    }
   ],
   "source": [
    "posPredValue(wbcd_test_pred, \n",
    "             wbcd_test_labels,\n",
    "             positive = \"Bening\",\n",
    "             negative = \"Malign\")"
   ]
  },
  {
   "cell_type": "markdown",
   "metadata": {},
   "source": [
    "* Valor predictivo negativo: Proporción de casos negativos que fueron verdaderamente negativos.\n",
    "\n",
    "\n",
    "$$\\text{negative predictive value} = \\frac{\\text{TN}}{\\text{TN}  + \\text{FN}}$$"
   ]
  },
  {
   "cell_type": "code",
   "execution_count": 24,
   "metadata": {},
   "outputs": [
    {
     "data": {
      "text/html": [
       "1"
      ],
      "text/latex": [
       "1"
      ],
      "text/markdown": [
       "1"
      ],
      "text/plain": [
       "[1] 1"
      ]
     },
     "metadata": {},
     "output_type": "display_data"
    }
   ],
   "source": [
    "21 / (21 + 0)"
   ]
  },
  {
   "cell_type": "code",
   "execution_count": 25,
   "metadata": {
    "scrolled": true
   },
   "outputs": [
    {
     "data": {
      "text/html": [
       "1"
      ],
      "text/latex": [
       "1"
      ],
      "text/markdown": [
       "1"
      ],
      "text/plain": [
       "[1] 1"
      ]
     },
     "metadata": {},
     "output_type": "display_data"
    }
   ],
   "source": [
    "negPredValue(wbcd_test_pred, \n",
    "             wbcd_test_labels,\n",
    "             positive = \"Bening\")"
   ]
  },
  {
   "cell_type": "markdown",
   "metadata": {},
   "source": [
    "* La medida F permite comparar varios modelos entre si.\n",
    "\n",
    "\n",
    "$$\\text{F-measure} = \\frac{2 * \\text{TP}}{2 * \\text{TP} + \\text{FP} + \\text{FN}}$$"
   ]
  },
  {
   "cell_type": "markdown",
   "metadata": {},
   "source": [
    "**Ejercicio.--** La función CrossTable computa la matriz de confusión y entrega información detallada de los cálculos, tal como se muestra a continuación. Cómo se lee la tabla? Puede identificar las medidas de precisión anteriores en la tabla?"
   ]
  },
  {
   "cell_type": "code",
   "execution_count": 26,
   "metadata": {},
   "outputs": [
    {
     "name": "stdout",
     "output_type": "stream",
     "text": [
      "\n",
      " \n",
      "   Cell Contents\n",
      "|-------------------------|\n",
      "|                       N |\n",
      "|           N / Row Total |\n",
      "|           N / Col Total |\n",
      "|         N / Table Total |\n",
      "|-------------------------|\n",
      "\n",
      " \n",
      "Total Observations in Table:  100 \n",
      "\n",
      " \n",
      "                 | wbcd_test_pred \n",
      "wbcd_test_labels |    Benign | Malignant | Row Total | \n",
      "-----------------|-----------|-----------|-----------|\n",
      "          Benign |        77 |         0 |        77 | \n",
      "                 |     1.000 |     0.000 |     0.770 | \n",
      "                 |     0.975 |     0.000 |           | \n",
      "                 |     0.770 |     0.000 |           | \n",
      "-----------------|-----------|-----------|-----------|\n",
      "       Malignant |         2 |        21 |        23 | \n",
      "                 |     0.087 |     0.913 |     0.230 | \n",
      "                 |     0.025 |     1.000 |           | \n",
      "                 |     0.020 |     0.210 |           | \n",
      "-----------------|-----------|-----------|-----------|\n",
      "    Column Total |        79 |        21 |       100 | \n",
      "                 |     0.790 |     0.210 |           | \n",
      "-----------------|-----------|-----------|-----------|\n",
      "\n",
      " \n"
     ]
    }
   ],
   "source": [
    "# La función CrossTable del paquete gmodels\n",
    "# entrega información más detallada.\n",
    "# install.packages(\"gmodels\")\n",
    "library(gmodels)\n",
    "CrossTable(x = wbcd_test_labels, \n",
    "           y = wbcd_test_pred,\n",
    "           prop.chisq=FALSE)"
   ]
  },
  {
   "cell_type": "markdown",
   "metadata": {},
   "source": [
    "# Mejora del modelo"
   ]
  },
  {
   "cell_type": "markdown",
   "metadata": {},
   "source": [
    "**Ejercicio.** Determine si el modelo mejora con $k$ = 21 y se estándarizan las variables (use la función `scale`). "
   ]
  },
  {
   "cell_type": "markdown",
   "metadata": {},
   "source": [
    "**Ejercicio.** Determine el valor óptimo de $k$ cuándo los datos son normalizados (Calcule la cantidad total de ejemplos mal clasificados para $k$ desde 1 hasta 27)."
   ]
  },
  {
   "cell_type": "markdown",
   "metadata": {},
   "source": [
    "**Ejercicio.** Los resutados son dependientes de cómo se partieron los datos en entrenamiento y prueba. Cómo podría calcular de una forma más robusta la cantidad de vecinos?"
   ]
  },
  {
   "cell_type": "markdown",
   "metadata": {},
   "source": [
    "---"
   ]
  },
  {
   "cell_type": "markdown",
   "metadata": {},
   "source": [
    "Diagnóstico del cáncer de mama\n",
    "===\n",
    "\n",
    "**Juan David Velásquez Henao**  \n",
    "jdvelasq@unal.edu.co   \n",
    "Universidad Nacional de Colombia, Sede Medellín  \n",
    "Facultad de Minas  \n",
    "Medellín, Colombia\n",
    "\n",
    "---\n",
    "\n",
    "Haga click [aquí](https://github.com/jdvelasq/predictive-modeling/blob/master/01-kNN-R-breast-cancer.ipynb) para acceder a la última versión online.\n",
    "\n",
    "Haga click [aquí](http://nbviewer.jupyter.org/github/jdvelasq/predictive-modeling/blob/master/01-kNN-R-breast-cancer.ipynb) para ver la última versión online en `nbviewer`. \n",
    "\n",
    "---\n",
    "[Licencia](https://github.com/jdvelasq/predictive-modeling/blob/master/LICENCIA.txt)  \n",
    "[Readme](https://github.com/jdvelasq/predictive-modeling/blob/master/readme.md)"
   ]
  }
 ],
 "metadata": {
  "kernel_info": {
   "name": "python3"
  },
  "kernelspec": {
   "display_name": "R",
   "language": "R",
   "name": "ir"
  },
  "language_info": {
   "codemirror_mode": "r",
   "file_extension": ".r",
   "mimetype": "text/x-r-source",
   "name": "R",
   "pygments_lexer": "r",
   "version": "3.4.3"
  },
  "nteract": {
   "version": "0.7.1"
  }
 },
 "nbformat": 4,
 "nbformat_minor": 2
}
