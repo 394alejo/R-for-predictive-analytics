{
 "cells": [
  {
   "cell_type": "markdown",
   "metadata": {},
   "source": [
    "Filtrado de spam en mensajes de texto (SMS)\n",
    "===\n",
    "\n",
    "**Juan David Velásquez Henao**  \n",
    "jdvelasq@unal.edu.co   \n",
    "Universidad Nacional de Colombia, Sede Medellín  \n",
    "Facultad de Minas  \n",
    "Medellín, Colombia\n",
    "\n",
    "---\n",
    "\n",
    "Haga click [aquí](https://github.com/jdvelasq/predictive-analytics/blob/master/06-NaiveBayes-IPy-SMS-spam.ipynb) para acceder a la última versión online.\n",
    "\n",
    "Haga click [aquí](http://nbviewer.jupyter.org/github/jdvelasq/predictive-analytics/blob/master/06-NaiveBayes-IPy-SMS-spam.ipynb) para ver la última versión online en `nbviewer`. \n",
    "\n",
    "---\n",
    "[Licencia](https://github.com/jdvelasq/predictive-analytics/blob/master/LICENSE)  \n",
    "[Readme](https://github.com/jdvelasq/predictive-analytics/blob/master/readme.md)"
   ]
  },
  {
   "cell_type": "code",
   "execution_count": 27,
   "metadata": {
    "scrolled": true
   },
   "outputs": [
    {
     "data": {
      "text/plain": [
       "[['ham',\n",
       "  'Go until jurong point, crazy.. Available only in bugis n great world la e buffet... Cine there got amore wat...'],\n",
       " ['ham', 'Ok lar... Joking wif u oni...'],\n",
       " ['spam',\n",
       "  \"Free entry in 2 a wkly comp to win FA Cup final tkts 21st May 2005. Text FA to 87121 to receive entry question(std txt rate)T&C's apply 08452810075over18's\"],\n",
       " ['ham', 'U dun say so early hor... U c already then say...'],\n",
       " ['ham', \"Nah I don't think he goes to usf, he lives around here though\"]]"
      ]
     },
     "execution_count": 27,
     "metadata": {},
     "output_type": "execute_result"
    }
   ],
   "source": [
    "#\n",
    "# Lee el archivo. La función readlines() retorna una \n",
    "# una lista de strings donde cada string es una linea\n",
    "# del archivo original.\n",
    "#\n",
    "sms_raw = open('data/sms_spam.csv').readlines()\n",
    "#\n",
    "# Elimina las comillas dobles al principio y al\n",
    "# final\n",
    "#\n",
    "lines = []\n",
    "for line in sms_raw:\n",
    "    lines.append(line[1:-2]) \n",
    "sms_raw = lines\n",
    "#\n",
    "# Convierte cada linea en una lista de strings, \n",
    "# partiendo la línea original por las comas.\n",
    "# \n",
    "sms_raw = [x.split('\",\"') for x in sms_raw]\n",
    "#\n",
    "# Elimina la primera fila que corresponde a los\n",
    "# encabezamientos\n",
    "#\n",
    "sms_raw = sms_raw[1:]\n",
    "#\n",
    "# Imprime los primeros cinco registros\n",
    "#\n",
    "sms_raw[0:5]\n",
    "#\n",
    "## str(sms_raw)\n",
    "##\n",
    "## 'data.frame':\t5574 obs. of  2 variables:\n",
    "##  $ type: chr  \"ham\" \"ham\" \"spam\" \"ham\" ...\n",
    "##  $ text: chr  \"Go until jurong point, crazy.. Available only in bugis n great world la e buffet... Cine there got amore wat...\" \"Ok lar... Joking wif u oni...\" \"Free entry in 2 a wkly comp to win FA Cup final tkts 21st May 2005. Text FA to 87121 to receive entry question(\"| __truncated__ \"U dun say so early hor... U c already then say...\" ...\n",
    "##"
   ]
  },
  {
   "cell_type": "code",
   "execution_count": 28,
   "metadata": {
    "collapsed": true
   },
   "outputs": [],
   "source": [
    "#\n",
    "# Separa el texto y el tipo de mensaje\n",
    "# \n",
    "sms_raw_type = [x[0] for x in sms_raw]\n",
    "sms_raw_text = [x[1] for x in sms_raw]"
   ]
  },
  {
   "cell_type": "code",
   "execution_count": null,
   "metadata": {
    "collapsed": true
   },
   "outputs": [],
   "source": [
    "# Se convierte la columna type, que contiene strings, en un factor.\n",
    "## sms_raw$type <- factor(sms_raw$type)\n",
    "## str(sms_raw$type)\n",
    "##\n",
    "##  Factor w/ 2 levels \"ham\",\"spam\": 1 1 2 1 1 2 1 1 2 2 ...\n",
    "##"
   ]
  },
  {
   "cell_type": "code",
   "execution_count": null,
   "metadata": {
    "collapsed": true
   },
   "outputs": [],
   "source": [
    "#\n",
    "# Se crea una función que mimifica \n",
    "# la función table de R\n",
    "#\n",
    "def table(x):\n",
    "    return {y:sms_raw_type.count(y) for y in set(x)}"
   ]
  },
  {
   "cell_type": "code",
   "execution_count": 32,
   "metadata": {},
   "outputs": [
    {
     "data": {
      "text/plain": [
       "{'ham': 4827, 'spam': 747}"
      ]
     },
     "execution_count": 32,
     "metadata": {},
     "output_type": "execute_result"
    }
   ],
   "source": [
    "#\n",
    "# cuenta la cantidad de ham y spam\n",
    "#\n",
    "{x:sms_raw_type.count(x) for x in set(sms_raw_type)}"
   ]
  },
  {
   "cell_type": "code",
   "execution_count": null,
   "metadata": {
    "collapsed": true
   },
   "outputs": [],
   "source": []
  },
  {
   "cell_type": "code",
   "execution_count": null,
   "metadata": {
    "collapsed": true
   },
   "outputs": [],
   "source": [
    "# Cantidad de casos para cada tipo de mensaje.\n",
    "## table(sms_raw$type)\n",
    "##\n",
    "## \n",
    "##  ham spam \n",
    "## 4827  747 \n",
    "##"
   ]
  },
  {
   "cell_type": "code",
   "execution_count": null,
   "metadata": {
    "collapsed": true,
    "scrolled": false
   },
   "outputs": [],
   "source": [
    "# Se convierte el conteo en probabilidades.\n",
    "## round(prop.table(table(sms_raw$type)) * 100, digits = 1)\n",
    "##\n",
    "## \n",
    "##  ham spam \n",
    "## 86.6 13.4 \n",
    "##"
   ]
  },
  {
   "cell_type": "markdown",
   "metadata": {},
   "source": [
    "# Preparación de los datos"
   ]
  },
  {
   "cell_type": "code",
   "execution_count": null,
   "metadata": {
    "collapsed": true
   },
   "outputs": [],
   "source": [
    "# El paquete tm se usa para minería de texto\n",
    "# install.packages(\"tm\")\n",
    "# install.packages(\"NLP\")\n",
    "# install.packages(\"SnowballC\")\n",
    "## library(NLP)\n",
    "## library(tm)\n",
    "## library(SnowballC)"
   ]
  },
  {
   "cell_type": "code",
   "execution_count": null,
   "metadata": {
    "collapsed": true
   },
   "outputs": [],
   "source": [
    "# Se crea un corpus que es una colección de documentos.\n",
    "## sms_corpus <- VCorpus(VectorSource(sms_raw$text))\n",
    "## print(sms_corpus)\n",
    "##\n",
    "## <<VCorpus>>\n",
    "## Metadata:  corpus specific: 0, document level (indexed): 0\n",
    "## Content:  documents: 5574\n",
    "##"
   ]
  },
  {
   "cell_type": "code",
   "execution_count": null,
   "metadata": {
    "collapsed": true
   },
   "outputs": [],
   "source": [
    "# Se pueden seleccionar elementos particulares dentro del corpus.\n",
    "## inspect(sms_corpus[1:2])\n",
    "##\n",
    "## <<VCorpus>>\n",
    "## Metadata:  corpus specific: 0, document level (indexed): 0\n",
    "## Content:  documents: 2\n",
    "## \n",
    "## [[1]]\n",
    "## <<PlainTextDocument>>\n",
    "## Metadata:  7\n",
    "## Content:  chars: 111\n",
    "## \n",
    "## [[2]]\n",
    "## <<PlainTextDocument>>\n",
    "## Metadata:  7\n",
    "## Content:  chars: 29\n",
    "## \n",
    "##"
   ]
  },
  {
   "cell_type": "code",
   "execution_count": null,
   "metadata": {
    "collapsed": true
   },
   "outputs": [],
   "source": [
    "# Para ver un mensaje de texto en particular se usa as.character\n",
    "## as.character(sms_corpus[[1]])\n",
    "##\n",
    "## [1] \"Go until jurong point, crazy.. Available only in bugis n great world la e buffet... Cine there got amore wat...\"\n",
    "##"
   ]
  },
  {
   "cell_type": "code",
   "execution_count": null,
   "metadata": {
    "collapsed": true
   },
   "outputs": [],
   "source": [
    "# Para ver varios documentos se usa lapply\n",
    "## lapply(sms_corpus[1:2], as.character)\n",
    "##\n",
    "## $`1`\n",
    "## [1] \"Go until jurong point, crazy.. Available only in bugis n great world la e buffet... Cine there got amore wat...\"\n",
    "## \n",
    "## $`2`\n",
    "## [1] \"Ok lar... Joking wif u oni...\"\n",
    "##"
   ]
  },
  {
   "cell_type": "code",
   "execution_count": null,
   "metadata": {
    "collapsed": true
   },
   "outputs": [],
   "source": [
    "# Se convierten todas las letras en minúsculas\n",
    "## sms_corpus_clean <- tm_map(sms_corpus, \n",
    "##                            content_transformer(tolower))\n",
    "\n",
    "# Se eliminan los dígitos\n",
    "## sms_corpus_clean <- tm_map(sms_corpus_clean, \n",
    "##                            removeNumbers)\n",
    "\n",
    "# Se eliminan las stop-words\n",
    "## sms_corpus_clean <- tm_map(sms_corpus_clean,\n",
    "##                            removeWords, # funcion que remueve las palabras\n",
    "##                            stopwords()) # lista de palabras a remover\n",
    "\n",
    "# Se remueve la puntuación.\n",
    "## sms_corpus_clean <- tm_map(sms_corpus_clean, \n",
    "##                            removePunctuation)\n",
    "\n",
    "# Se transforman a infinitivo las conjugaciones.\n",
    "## sms_corpus_clean <- tm_map(sms_corpus_clean, \n",
    "##                            stemDocument)\n",
    "\n",
    "# Se remueven espacios en blanco adicionales.\n",
    "## sms_corpus_clean <- tm_map(sms_corpus_clean, \n",
    "##                            stripWhitespace)"
   ]
  },
  {
   "cell_type": "code",
   "execution_count": null,
   "metadata": {
    "collapsed": true
   },
   "outputs": [],
   "source": [
    "# Para ver el efecto de las transformaciones\n",
    "# realizadas, a continuación se muestran los \n",
    "# mensajes originales y los transformados.\n",
    "# Mensajes antes de realizar la limpieza.\n",
    "## lapply(sms_corpus[1:3], as.character)\n",
    "##\n",
    "## $`1`\n",
    "## [1] \"Go until jurong point, crazy.. Available only in bugis n great world la e buffet... Cine there got amore wat...\"\n",
    "## \n",
    "## $`2`\n",
    "## [1] \"Ok lar... Joking wif u oni...\"\n",
    "## \n",
    "## $`3`\n",
    "## [1] \"Free entry in 2 a wkly comp to win FA Cup final tkts 21st May 2005. Text FA to 87121 to receive entry question(std txt rate)T&C's apply 08452810075over18's\"\n",
    "##"
   ]
  },
  {
   "cell_type": "code",
   "execution_count": null,
   "metadata": {
    "collapsed": true
   },
   "outputs": [],
   "source": [
    "# Mensajes despues de limpiar.\n",
    "## lapply(sms_corpus_clean[1:3], as.character)\n",
    "##\n",
    "## $`1`\n",
    "## [1] \"go jurong point crazi avail bugi n great world la e buffet cine got amor wat\"\n",
    "## \n",
    "## $`2`\n",
    "## [1] \"ok lar joke wif u oni\"\n",
    "## \n",
    "## $`3`\n",
    "## [1] \"free entri wkli comp win fa cup final tkts st may text fa receiv entri questionstd txt ratetc appli s\"\n",
    "##"
   ]
  },
  {
   "cell_type": "code",
   "execution_count": null,
   "metadata": {
    "collapsed": true
   },
   "outputs": [],
   "source": [
    "# Se crea la matriz de términos del documento\n",
    "## sms_dtm <- DocumentTermMatrix(sms_corpus_clean)"
   ]
  },
  {
   "cell_type": "code",
   "execution_count": null,
   "metadata": {
    "collapsed": true
   },
   "outputs": [],
   "source": [
    "# Es posible crear la matriz de términos del documento\n",
    "# sin pasar por el preprocesmiento previo y realizarlo\n",
    "# directamente en la llamada a la función\n",
    "## sms_dtm2 <- \n",
    "## DocumentTermMatrix(sms_corpus, \n",
    "##                    control = list(tolower = TRUE, \n",
    "##                                   removeNumbers = TRUE,\n",
    "##                                   stopwords = TRUE, \n",
    "##                                   removePunctuation = TRUE,\n",
    "##                                   stemming = TRUE))"
   ]
  },
  {
   "cell_type": "code",
   "execution_count": null,
   "metadata": {
    "collapsed": true
   },
   "outputs": [],
   "source": [
    "## sms_dtm\n",
    "##\n",
    "## <<DocumentTermMatrix (documents: 5574, terms: 6592)>>\n",
    "## Non-/sparse entries: 42608/36701200\n",
    "## Sparsity           : 100%\n",
    "## Maximal term length: 40\n",
    "## Weighting          : term frequency (tf)\n",
    "##"
   ]
  },
  {
   "cell_type": "code",
   "execution_count": null,
   "metadata": {
    "collapsed": true
   },
   "outputs": [],
   "source": [
    "## sms_dtm2\n",
    "##\n",
    "## <<DocumentTermMatrix (documents: 5574, terms: 6995)>>\n",
    "## Non-/sparse entries: 43713/38946417\n",
    "## Sparsity           : 100%\n",
    "## Maximal term length: 40\n",
    "## Weighting          : term frequency (tf)\n",
    "##"
   ]
  },
  {
   "cell_type": "code",
   "execution_count": null,
   "metadata": {
    "collapsed": true
   },
   "outputs": [],
   "source": [
    "# Creación de los conjuntos de entrenamiento y prueba.\n",
    "## sms_dtm_train <- sms_dtm[1:4169, ]\n",
    "## sms_dtm_test  <- sms_dtm[4170:5559, ]\n",
    "## sms_train_labels <- sms_raw[1:4169, ]$type\n",
    "## sms_test_labels  <- sms_raw[4170:5559, ]$type"
   ]
  },
  {
   "cell_type": "code",
   "execution_count": null,
   "metadata": {
    "collapsed": true
   },
   "outputs": [],
   "source": [
    "# Distribución de los datos en el conjunto de entrenamiento.\n",
    "## prop.table(table(sms_train_labels))\n",
    "##\n",
    "## sms_train_labels\n",
    "##       ham      spam \n",
    "## 0.8647158 0.1352842 \n",
    "##"
   ]
  },
  {
   "cell_type": "code",
   "execution_count": null,
   "metadata": {
    "collapsed": true,
    "scrolled": true
   },
   "outputs": [],
   "source": [
    "# Distribución de los datos en el conjunto de prueba.\n",
    "## prop.table(table(sms_test_labels))\n",
    "##\n",
    "## sms_test_labels\n",
    "##       ham      spam \n",
    "## 0.8697842 0.1302158 \n",
    "##"
   ]
  },
  {
   "cell_type": "code",
   "execution_count": null,
   "metadata": {
    "collapsed": true
   },
   "outputs": [],
   "source": [
    "# En este caso es más útil visualizar \n",
    "# una nube que indique la frecuencia de las\n",
    "# palabras\n",
    "# install.packages(\"wordcloud\")\n",
    "# install.packages(\"RColorBrewer\")\n",
    "## library(RColorBrewer)\n",
    "## library(wordcloud)\n",
    "## wordcloud(sms_corpus_clean, \n",
    "##           min.freq = 50,         # número de veces que debe aparecer una palabra\n",
    "##           random.order = FALSE)  # palabras más frecuentes en el centro\n",
    "##\n",
    "## plot without title\n",
    "##"
   ]
  },
  {
   "cell_type": "code",
   "execution_count": null,
   "metadata": {
    "collapsed": true
   },
   "outputs": [],
   "source": [
    "# Palabras que más aparecen en mensajes spam y válidos.\n",
    "## spam <- subset(sms_raw, type == \"spam\")\n",
    "## ham <- subset(sms_raw, type == \"ham\")\n",
    "## wordcloud(spam$text, max.words = 40, scale = c(3, 0.5))\n",
    "## wordcloud(ham$text, max.words = 40, scale = c(3, 0.5))\n",
    "##\n",
    "## plot without title\n",
    "##"
   ]
  },
  {
   "cell_type": "code",
   "execution_count": null,
   "metadata": {
    "collapsed": true
   },
   "outputs": [],
   "source": [
    "# Palabras que aparecen al menos en 5 mensajes.\n",
    "## sms_freq_words <- findFreqTerms(sms_dtm_train, 5)\n",
    "## str(sms_freq_words)\n",
    "##\n",
    "##  chr [1:1157] \"£wk\" \"abiola\" \"abl\" \"abt\" \"accept\" \"access\" \"account\" ...\n",
    "##"
   ]
  },
  {
   "cell_type": "code",
   "execution_count": null,
   "metadata": {
    "collapsed": true
   },
   "outputs": [],
   "source": [
    "# Se construyen conjuntos de entrenamiento y prueba \n",
    "# con las palabras que aparecen al menos en 5 mensajes.\n",
    "## sms_dtm_freq_train<- sms_dtm_train[ , sms_freq_words]\n",
    "## sms_dtm_freq_test <- sms_dtm_test[ , sms_freq_words]"
   ]
  },
  {
   "cell_type": "code",
   "execution_count": null,
   "metadata": {
    "collapsed": true
   },
   "outputs": [],
   "source": [
    "# Se convierte la frecuencia de ocurrencia a \"Yes\" y \"No\"\n",
    "## convert_counts <- \n",
    "## function(x) {\n",
    "##     x <- ifelse(x > 0, \"Yes\", \"No\")\n",
    "## }\n",
    "#\n",
    "## sms_train <- apply(sms_dtm_freq_train, \n",
    "##                    MARGIN = 2,\n",
    "##                    convert_counts)\n",
    "#\n",
    "## sms_test <- apply(sms_dtm_freq_test, \n",
    "##                   MARGIN = 2,\n",
    "##                   convert_counts)"
   ]
  },
  {
   "cell_type": "markdown",
   "metadata": {},
   "source": [
    "# Entrenamiento del modelo"
   ]
  },
  {
   "cell_type": "code",
   "execution_count": null,
   "metadata": {
    "collapsed": true,
    "scrolled": false
   },
   "outputs": [],
   "source": [
    "# Carga la librería\n",
    "# install.packages(\"e1071\")\n",
    "## library(e1071)\n",
    "## sms_classifier <- naiveBayes(sms_train, \n",
    "##                              sms_train_labels)"
   ]
  },
  {
   "cell_type": "markdown",
   "metadata": {},
   "source": [
    "# Evaluación del modelo"
   ]
  },
  {
   "cell_type": "code",
   "execution_count": null,
   "metadata": {
    "collapsed": true
   },
   "outputs": [],
   "source": [
    "# Se pronostica para los datos de prueba.\n",
    "## sms_test_pred <- predict(sms_classifier, sms_test)\n",
    "## head(sms_test_pred)\n",
    "##\n",
    "## [1] spam ham  ham  ham  ham  ham \n",
    "## Levels: ham spam\n",
    "##"
   ]
  },
  {
   "cell_type": "code",
   "execution_count": null,
   "metadata": {
    "collapsed": true,
    "scrolled": false
   },
   "outputs": [],
   "source": [
    "# Se calcula la matriz de confusión.\n",
    "## table(sms_test_labels, sms_test_pred)\n",
    "##\n",
    "##                sms_test_pred\n",
    "## sms_test_labels  ham spam\n",
    "##            ham  1200    9\n",
    "##            spam   20  161\n",
    "##"
   ]
  },
  {
   "cell_type": "code",
   "execution_count": null,
   "metadata": {
    "collapsed": true
   },
   "outputs": [],
   "source": [
    "# Se calcula la probabilidad de que cada mensaje sea \n",
    "# válido o spam para el conjunto de prueba. \n",
    "# Los resultados muestran que los mensajes\n",
    "# son clasificados correctamente.\n",
    "## sms_test_prob <- predict(sms_classifier, sms_test, type = \"raw\")\n",
    "## head(sms_test_prob)\n",
    "##\n",
    "##      ham          spam        \n",
    "## [1,] 1.142967e-14 1.000000e+00\n",
    "## [2,] 9.963283e-01 3.671735e-03\n",
    "## [3,] 9.999824e-01 1.764894e-05\n",
    "## [4,] 1.000000e+00 8.310837e-09\n",
    "## [5,] 9.999316e-01 6.839232e-05\n",
    "## [6,] 9.999987e-01 1.301622e-06\n",
    "##"
   ]
  },
  {
   "cell_type": "code",
   "execution_count": null,
   "metadata": {
    "collapsed": true
   },
   "outputs": [],
   "source": [
    "# Resulta más conveniente preparar una nueva tabla que\n",
    "# muestre la clasificación y no únicamente las \n",
    "# probabilidades.\n",
    "## sms_results <- data.frame(actual_type = sms_test_labels,\n",
    "##                           predict_type = sms_test_pred,\n",
    "##                           prob_ham = sms_test_prob[,1],\n",
    "##                           prob_spam = sms_test_prob[,2])\n",
    "## head(sms_results)\n",
    "##\n",
    "##   actual_type predict_type prob_ham     prob_spam   \n",
    "## 1 spam        spam         1.142967e-14 1.000000e+00\n",
    "## 2 ham         ham          9.963283e-01 3.671735e-03\n",
    "## 3 ham         ham          9.999824e-01 1.764894e-05\n",
    "## 4 ham         ham          1.000000e+00 8.310837e-09\n",
    "## 5 ham         ham          9.999316e-01 6.839232e-05\n",
    "## 6 ham         ham          9.999987e-01 1.301622e-06\n",
    "##"
   ]
  },
  {
   "cell_type": "code",
   "execution_count": null,
   "metadata": {
    "collapsed": true
   },
   "outputs": [],
   "source": [
    "# install.packages(\"gmodels\")\n",
    "## library(gmodels)\n",
    "## CrossTable(sms_test_pred, \n",
    "##            sms_test_labels,\n",
    "##            prop.chisq = FALSE, \n",
    "##            prop.t = FALSE,\n",
    "##            dnn = c('predicted', 'actual'))\n",
    "##\n",
    "## \n",
    "##  \n",
    "##    Cell Contents\n",
    "## |-------------------------|\n",
    "## |                       N |\n",
    "## |           N / Row Total |\n",
    "## |           N / Col Total |\n",
    "## |-------------------------|\n",
    "## \n",
    "##  \n",
    "## Total Observations in Table:  1390 \n",
    "## \n",
    "##  \n",
    "##              | actual \n",
    "##    predicted |       ham |      spam | Row Total | \n",
    "## -------------|-----------|-----------|-----------|\n",
    "##          ham |      1200 |        20 |      1220 | \n",
    "##              |     0.984 |     0.016 |     0.878 | \n",
    "##              |     0.993 |     0.110 |           | \n",
    "## -------------|-----------|-----------|-----------|\n",
    "##         spam |         9 |       161 |       170 | \n",
    "##              |     0.053 |     0.947 |     0.122 | \n",
    "##              |     0.007 |     0.890 |           | \n",
    "## -------------|-----------|-----------|-----------|\n",
    "## Column Total |      1209 |       181 |      1390 | \n",
    "##              |     0.870 |     0.130 |           | \n",
    "## -------------|-----------|-----------|-----------|\n",
    "## \n",
    "##  \n",
    "##"
   ]
  },
  {
   "cell_type": "code",
   "execution_count": null,
   "metadata": {
    "collapsed": true
   },
   "outputs": [],
   "source": [
    "# Mensajes con clasificación errónea.\n",
    "# Resulta muy importante determinar porque los \n",
    "# mensajes están mal clasificados\n",
    "## head(subset(sms_results, actual_type != predict_type))\n",
    "##\n",
    "##     actual_type predict_type prob_ham    prob_spam  \n",
    "## 45  spam        ham          0.988193712 0.011806288\n",
    "## 54  ham         spam         0.003955372 0.996044628\n",
    "## 85  ham         spam         0.277074268 0.722925732\n",
    "## 88  spam        ham          0.988551588 0.011448412\n",
    "## 130 spam        ham          0.993500148 0.006499852\n",
    "## 205 spam        ham          0.895915228 0.104084772\n",
    "##"
   ]
  },
  {
   "cell_type": "code",
   "execution_count": null,
   "metadata": {
    "collapsed": true,
    "scrolled": true
   },
   "outputs": [],
   "source": [
    "# Sin embargo, es mucho más intersante extraer\n",
    "# mensajes con probabilidades numéricamente \n",
    "# cercanas a 0.5. Estos podrían generar ambiguedad\n",
    "# en la clasificación.\n",
    "## head(subset(sms_results, prob_spam > 0.40 & prob_spam < 0.60))\n",
    "##\n",
    "##     actual_type predict_type prob_ham  prob_spam\n",
    "## 104 spam        spam         0.4885929 0.5114071\n",
    "## 320 ham         spam         0.4702446 0.5297554\n",
    "## 694 ham         spam         0.4916055 0.5083945\n",
    "## 709 spam        spam         0.4885929 0.5114071\n",
    "## 817 spam        spam         0.4885929 0.5114071\n",
    "## 873 spam        spam         0.4885929 0.5114071\n",
    "##"
   ]
  },
  {
   "cell_type": "code",
   "execution_count": null,
   "metadata": {
    "collapsed": true
   },
   "outputs": [],
   "source": [
    "# Mensajes mal clasificados con probabilidad cercana a 0.5 \n",
    "## head(subset(sms_results, prob_spam > 0.40 & prob_spam < 0.60 & actual_type != predict_type))\n",
    "##\n",
    "##     actual_type predict_type prob_ham  prob_spam\n",
    "## 320 ham         spam         0.4702446 0.5297554\n",
    "## 694 ham         spam         0.4916055 0.5083945\n",
    "##"
   ]
  },
  {
   "cell_type": "markdown",
   "metadata": {},
   "source": [
    "**Ejercicio.--** El código presentado a continuación genera una curva ROC para este clasificador. Cómo se interpreta?"
   ]
  },
  {
   "cell_type": "code",
   "execution_count": null,
   "metadata": {
    "collapsed": true
   },
   "outputs": [],
   "source": [
    "# install.packages(\"ROCR\")\n",
    "## library(ROCR)\n",
    "## pred <- prediction(predictions = sms_results$prob_spam,\n",
    "##                    labels = sms_results$actual_type)\n",
    "## perf <- performance(pred, measure = \"tpr\", x.measure = \"fpr\")\n",
    "## plot(perf, \n",
    "##      main = \"ROC curve for SMS spam filter\",\n",
    "##      col = \"blue\", \n",
    "##      lwd = 3)\n",
    "## abline(a = 0, b = 1, lwd = 2, lty = 2)\n",
    "##\n",
    "## Loading required package: gplots\n",
    "## \n",
    "## Attaching package: ‘gplots’\n",
    "## \n",
    "## The following object is masked from ‘package:wordcloud’:\n",
    "## \n",
    "##     textplot\n",
    "## \n",
    "## The following object is masked from ‘package:stats’:\n",
    "## \n",
    "##     lowess\n",
    "## \n",
    "##"
   ]
  },
  {
   "cell_type": "code",
   "execution_count": null,
   "metadata": {
    "collapsed": true
   },
   "outputs": [],
   "source": [
    "# Se computa el área bajo la curva.\n",
    "## perf.auc <- performance(pred, measure = \"auc\")\n",
    "## str(perf.auc)\n",
    "## unlist(perf.auc@y.values)\n",
    "##\n",
    "## Formal class 'performance' [package \"ROCR\"] with 6 slots\n",
    "##   ..@ x.name      : chr \"None\"\n",
    "##   ..@ y.name      : chr \"Area under the ROC curve\"\n",
    "##   ..@ alpha.name  : chr \"none\"\n",
    "##   ..@ x.values    : list()\n",
    "##   ..@ y.values    :List of 1\n",
    "##   .. ..$ : num 0.995\n",
    "##   ..@ alpha.values: list()\n",
    "##"
   ]
  },
  {
   "cell_type": "markdown",
   "metadata": {},
   "source": [
    "---"
   ]
  },
  {
   "cell_type": "markdown",
   "metadata": {},
   "source": [
    "Filtrado de spam en mensajes de texto (SMS)\n",
    "===\n",
    "\n",
    "**Juan David Velásquez Henao**  \n",
    "jdvelasq@unal.edu.co   \n",
    "Universidad Nacional de Colombia, Sede Medellín  \n",
    "Facultad de Minas  \n",
    "Medellín, Colombia\n",
    "\n",
    "---\n",
    "\n",
    "Haga click [aquí](https://github.com/jdvelasq/predictive-analytics/blob/master/06-NaiveBayes-IPy-SMS-spam.ipynb) para acceder a la última versión online.\n",
    "\n",
    "Haga click [aquí](http://nbviewer.jupyter.org/github/jdvelasq/predictive-analytics/blob/master/06-NaiveBayes-IPy-SMS-spam.ipynb) para ver la última versión online en `nbviewer`. \n",
    "\n",
    "---\n",
    "[Licencia](https://github.com/jdvelasq/predictive-analytics/blob/master/LICENSE)  \n",
    "[Readme](https://github.com/jdvelasq/predictive-analytics/blob/master/readme.md)"
   ]
  }
 ],
 "metadata": {
  "kernel_info": {
   "name": "python3"
  },
  "kernelspec": {
   "display_name": "Python 3",
   "language": "python",
   "name": "python3"
  },
  "language_info": {
   "codemirror_mode": {
    "name": "ipython",
    "version": 3
   },
   "file_extension": ".py",
   "mimetype": "text/x-python",
   "name": "python",
   "nbconvert_exporter": "python",
   "pygments_lexer": "ipython3",
   "version": "3.6.3"
  },
  "nteract": {
   "version": "0.7.1"
  }
 },
 "nbformat": 4,
 "nbformat_minor": 2
}
