{
 "cells": [
  {
   "cell_type": "markdown",
   "metadata": {},
   "source": [
    "Recomendación de paquetes a instalar en R\n",
    "===\n",
    "\n",
    "**Juan David Velásquez Henao**  \n",
    "jdvelasq@unal.edu.co   \n",
    "Universidad Nacional de Colombia, Sede Medellín  \n",
    "Facultad de Minas  \n",
    "Medellín, Colombia\n",
    "\n",
    "---\n",
    "\n",
    "Haga click [aquí](https://github.com/jdvelasq/predictive-analytics/blob/master/02-R-(ejercicio)-R-installed-packages.ipynb) para acceder a la última versión online.\n",
    "\n",
    "Haga click [aquí](http://nbviewer.jupyter.org/github/jdvelasq/predictive-analytics/blob/master/02-R-(ejercicio)-R-installed-packages.ipynb) para ver la última versión online en `nbviewer`. \n",
    "\n",
    "---\n",
    "[Licencia](https://github.com/jdvelasq/predictive-analytics/blob/master/LICENSE)  \n",
    "[Readme](https://github.com/jdvelasq/predictive-analytics/blob/master/readme.md)"
   ]
  },
  {
   "cell_type": "markdown",
   "metadata": {},
   "source": [
    "# Descripción del problema"
   ]
  },
  {
   "cell_type": "markdown",
   "metadata": {},
   "source": [
    "Se desea construir un sistema de recomendación para la instalación de paquetes del lenguaje R, tal que cuando un usuario seleccione un paquete a instalar, el sistema le recomiende otros paquetes que se han instalado con el paquete seleccionado. "
   ]
  },
  {
   "cell_type": "markdown",
   "metadata": {
    "collapsed": true
   },
   "source": [
    "# Definición del problema en términos de los datos"
   ]
  },
  {
   "cell_type": "markdown",
   "metadata": {
    "collapsed": true
   },
   "source": [
    "El archivo `installations.csv` tiene una muestra de 129324 registros de paquetes instalados por 65 usuarios. Las columnas son las siguientes:\n",
    "\n",
    "\n",
    "* Package: El nombre del paquete instalado.\n",
    "\n",
    "\n",
    "* User: Número entero que sirve como id del usuario.\n",
    "\n",
    "\n",
    "* Installed: 1=Si, 2=No. "
   ]
  },
  {
   "cell_type": "code",
   "execution_count": 4,
   "metadata": {},
   "outputs": [
    {
     "data": {
      "text/html": [
       "<table>\n",
       "<thead><tr><th></th><th scope=col>Package</th><th scope=col>User</th><th scope=col>Installed</th></tr></thead>\n",
       "<tbody>\n",
       "\t<tr><th scope=row>129319</th><td>zic      </td><td>65       </td><td>0        </td></tr>\n",
       "\t<tr><th scope=row>129320</th><td>ZIGP     </td><td>65       </td><td>0        </td></tr>\n",
       "\t<tr><th scope=row>129321</th><td>zipfR    </td><td>65       </td><td>1        </td></tr>\n",
       "\t<tr><th scope=row>129322</th><td>zoeppritz</td><td>65       </td><td>1        </td></tr>\n",
       "\t<tr><th scope=row>129323</th><td>zoo      </td><td>65       </td><td>1        </td></tr>\n",
       "\t<tr><th scope=row>129324</th><td>zyp      </td><td>65       </td><td>1        </td></tr>\n",
       "</tbody>\n",
       "</table>\n"
      ],
      "text/latex": [
       "\\begin{tabular}{r|lll}\n",
       "  & Package & User & Installed\\\\\n",
       "\\hline\n",
       "\t129319 & zic       & 65        & 0        \\\\\n",
       "\t129320 & ZIGP      & 65        & 0        \\\\\n",
       "\t129321 & zipfR     & 65        & 1        \\\\\n",
       "\t129322 & zoeppritz & 65        & 1        \\\\\n",
       "\t129323 & zoo       & 65        & 1        \\\\\n",
       "\t129324 & zyp       & 65        & 1        \\\\\n",
       "\\end{tabular}\n"
      ],
      "text/markdown": [
       "\n",
       "| <!--/--> | Package | User | Installed | \n",
       "|---|---|---|---|---|---|\n",
       "| 129319 | zic       | 65        | 0         | \n",
       "| 129320 | ZIGP      | 65        | 0         | \n",
       "| 129321 | zipfR     | 65        | 1         | \n",
       "| 129322 | zoeppritz | 65        | 1         | \n",
       "| 129323 | zoo       | 65        | 1         | \n",
       "| 129324 | zyp       | 65        | 1         | \n",
       "\n",
       "\n"
      ],
      "text/plain": [
       "       Package   User Installed\n",
       "129319 zic       65   0        \n",
       "129320 ZIGP      65   0        \n",
       "129321 zipfR     65   1        \n",
       "129322 zoeppritz 65   1        \n",
       "129323 zoo       65   1        \n",
       "129324 zyp       65   1        "
      ]
     },
     "metadata": {},
     "output_type": "display_data"
    }
   ],
   "source": [
    "installations <- read.csv('data/installations.csv') \n",
    "head(installations)"
   ]
  },
  {
   "cell_type": "markdown",
   "metadata": {},
   "source": [
    "Se debe construir un sistema de recomendación."
   ]
  },
  {
   "cell_type": "markdown",
   "metadata": {},
   "source": [
    "**Ayuda.--** Existen dos mecanismos básicos para la construcción de sistemas de recomendación. El primero consiste en encontrar items que son similares a los que ya han sido seleccionados por otros usuarios y luego aplicar alguna técnica de agrupamiento para realizar la recomendación (item-based approach); la segunda consiste en encontrar usuarios similares al usuario actual y recomendar lo que ellos ya han seleccionado (user-based approach). En este ejercicio se debe usar la segunda aproximación."
   ]
  },
  {
   "cell_type": "markdown",
   "metadata": {},
   "source": [
    "**Ayuda.--** Considere usar la función `cast` del paquete `reshape` para procesar los datos."
   ]
  },
  {
   "cell_type": "markdown",
   "metadata": {},
   "source": [
    "---"
   ]
  },
  {
   "cell_type": "markdown",
   "metadata": {},
   "source": [
    "Recomendación de paquetes a instalar en R\n",
    "===\n",
    "\n",
    "**Juan David Velásquez Henao**  \n",
    "jdvelasq@unal.edu.co   \n",
    "Universidad Nacional de Colombia, Sede Medellín  \n",
    "Facultad de Minas  \n",
    "Medellín, Colombia\n",
    "\n",
    "---\n",
    "\n",
    "Haga click [aquí](https://github.com/jdvelasq/predictive-analytics/blob/master/02-R-(ejercicio)-R-installed-packages.ipynb) para acceder a la última versión online.\n",
    "\n",
    "Haga click [aquí](http://nbviewer.jupyter.org/github/jdvelasq/predictive-analytics/blob/master/02-R-(ejercicio)-R-installed-packages.ipynb) para ver la última versión online en `nbviewer`. \n",
    "\n",
    "---\n",
    "[Licencia](https://github.com/jdvelasq/predictive-analytics/blob/master/LICENSE)  \n",
    "[Readme](https://github.com/jdvelasq/predictive-analytics/blob/master/readme.md)"
   ]
  },
  {
   "cell_type": "code",
   "execution_count": null,
   "metadata": {
    "collapsed": true
   },
   "outputs": [],
   "source": []
  }
 ],
 "metadata": {
  "kernel_info": {
   "name": "ir"
  },
  "kernelspec": {
   "display_name": "R",
   "language": "R",
   "name": "ir"
  },
  "language_info": {
   "codemirror_mode": "r",
   "file_extension": ".r",
   "mimetype": "text/x-r-source",
   "name": "R",
   "pygments_lexer": "r",
   "version": "3.4.3"
  },
  "nteract": {
   "version": "0.7.1"
  }
 },
 "nbformat": 4,
 "nbformat_minor": 2
}
