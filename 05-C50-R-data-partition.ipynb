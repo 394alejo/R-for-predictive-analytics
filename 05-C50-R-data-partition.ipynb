{
 "cells": [
  {
   "cell_type": "markdown",
   "metadata": {},
   "source": [
    "Identificación de créditos riesgosos\n",
    "===\n",
    "\n",
    "**Juan David Velásquez Henao**  \n",
    "jdvelasq@unal.edu.co   \n",
    "Universidad Nacional de Colombia, Sede Medellín  \n",
    "Facultad de Minas  \n",
    "Medellín, Colombia\n",
    "\n",
    "---\n",
    "\n",
    "Haga click [aquí](https://github.com/jdvelasq/machine-learning/blob/master/01-archivos-y-directorios.ipynb) para acceder a la última versión online.\n",
    "\n",
    "Haga click [aquí](http://nbviewer.jupyter.org/github/jdvelasq/machine-learning/blob/master/01-archivos-y-directorios.ipynb) para ver la última versión online en `nbviewer`. \n",
    "\n",
    "---\n",
    "[Licencia](https://github.com/jdvelasq/machine-learning/blob/master/LICENCIA.txt)  \n",
    "[Readme](https://github.com/jdvelasq/machine-learning/blob/master/readme.md)"
   ]
  },
  {
   "cell_type": "markdown",
   "metadata": {},
   "source": [
    "# Definición del problema real"
   ]
  },
  {
   "cell_type": "markdown",
   "metadata": {},
   "source": [
    "En el tutorial anterior se construyó un clasificador que tiene como objetivo reprobar o aprobar solicitudes de crédito. El gerente de proyecto ha solitado que se haga un análisis del desempeño del sistema cuando se encuentre en productivo."
   ]
  },
  {
   "cell_type": "markdown",
   "metadata": {
    "collapsed": true
   },
   "source": [
    "# Definición del problema en términos de los datos"
   ]
  },
  {
   "cell_type": "markdown",
   "metadata": {
    "collapsed": true
   },
   "source": [
    "El problema radica en que los datos para entrenamiento y prueba fueron tomados de forma determinística, pero los resultados del desempeño del clasificador podrían variar si la partición de los datos se hace diferente. Más aún, en vez de realizar estimaciones puntuales de la métrica de error seleccionada, sería mucho más conveniente estimar su distribución de probabilidades. "
   ]
  },
  {
   "cell_type": "code",
   "execution_count": 5,
   "metadata": {
    "collapsed": true
   },
   "outputs": [],
   "source": [
    "# se carga la librería\n",
    "library(C50)\n",
    "\n",
    "# lectura de los datos\n",
    "credit <- read.csv(\"data/credit.csv\")\n",
    "credit$default <- factor(credit$default, labels=c(\"No\", \"Yes\"))"
   ]
  },
  {
   "cell_type": "markdown",
   "metadata": {},
   "source": [
    "### Solución 1."
   ]
  },
  {
   "cell_type": "code",
   "execution_count": 20,
   "metadata": {},
   "outputs": [
    {
     "name": "stdout",
     "output_type": "stream",
     "text": [
      " int [1:900] 798 753 391 341 360 198 532 96 980 167 ...\n"
     ]
    }
   ],
   "source": [
    "# En esta solución se realiza una partición aleatoria\n",
    "# de los datos en los conjuntos de entrenamiento y prueba\n",
    "set.seed(123456)   # se reinicia la semilla del generador aleatorio\n",
    "train_sample <- sample(1000, 900)\n",
    "str(train_sample)"
   ]
  },
  {
   "cell_type": "code",
   "execution_count": 18,
   "metadata": {},
   "outputs": [
    {
     "data": {
      "text/html": [
       "30"
      ],
      "text/latex": [
       "30"
      ],
      "text/markdown": [
       "30"
      ],
      "text/plain": [
       "[1] 30"
      ]
     },
     "metadata": {},
     "output_type": "display_data"
    }
   ],
   "source": [
    "credit_train <- credit[train_sample, ]\n",
    "credit_test  <- credit[-train_sample, ]\n",
    "credit_model <- C5.0(credit_train[-17], credit_train$default)\n",
    "credit_pred <- predict(credit_model, credit_test)\n",
    "length(credit_test$default[credit_pred != credit_test$default])"
   ]
  },
  {
   "cell_type": "code",
   "execution_count": null,
   "metadata": {
    "collapsed": true
   },
   "outputs": [],
   "source": []
  },
  {
   "cell_type": "code",
   "execution_count": null,
   "metadata": {
    "collapsed": true
   },
   "outputs": [],
   "source": []
  },
  {
   "cell_type": "code",
   "execution_count": 25,
   "metadata": {},
   "outputs": [
    {
     "name": "stderr",
     "output_type": "stream",
     "text": [
      "also installing the dependency ‘lpSolve’\n",
      "\n"
     ]
    },
    {
     "name": "stdout",
     "output_type": "stream",
     "text": [
      "\n",
      "The downloaded binary packages are in\n",
      "\t/var/folders/yq/svn60mh123z6dzr3d4rjk_740000gn/T//Rtmpykflrs/downloaded_packages\n"
     ]
    },
    {
     "name": "stderr",
     "output_type": "stream",
     "text": [
      "Loading required package: lpSolve\n"
     ]
    },
    {
     "name": "stdout",
     "output_type": "stream",
     "text": [
      "List of 10\n",
      " $ Fold01: int [1:100] 23 51 85 91 92 97 101 106 125 136 ...\n",
      " $ Fold02: int [1:100] 9 20 26 27 37 41 58 68 76 82 ...\n",
      " $ Fold03: int [1:100] 2 5 6 8 11 13 19 32 34 40 ...\n",
      " $ Fold04: int [1:100] 4 10 28 48 78 83 120 132 134 142 ...\n",
      " $ Fold05: int [1:100] 21 63 74 87 103 107 108 112 119 121 ...\n",
      " $ Fold06: int [1:100] 22 29 31 36 39 42 45 57 59 64 ...\n",
      " $ Fold07: int [1:100] 12 14 17 33 35 43 44 52 62 65 ...\n",
      " $ Fold08: int [1:100] 7 15 16 18 25 46 67 72 84 86 ...\n",
      " $ Fold09: int [1:100] 3 49 50 53 56 60 70 71 98 102 ...\n",
      " $ Fold10: int [1:100] 1 24 30 38 47 61 81 105 109 116 ...\n"
     ]
    }
   ],
   "source": [
    "# install.packages('irr')\n",
    "library(irr)\n",
    "library(caret)\n",
    "folds <- createFolds(credit$default, k = 10)\n",
    "str(folds)"
   ]
  },
  {
   "cell_type": "code",
   "execution_count": 26,
   "metadata": {},
   "outputs": [
    {
     "name": "stdout",
     "output_type": "stream",
     "text": [
      "List of 10\n",
      " $ Fold01: num 0.266\n",
      " $ Fold02: num 0.475\n",
      " $ Fold03: num 0.255\n",
      " $ Fold04: num 0.175\n",
      " $ Fold05: num 0.255\n",
      " $ Fold06: num 0.193\n",
      " $ Fold07: num 0.417\n",
      " $ Fold08: num 0.381\n",
      " $ Fold09: num 0.303\n",
      " $ Fold10: num 0.475\n"
     ]
    }
   ],
   "source": [
    "cv_results <- lapply(folds, function(x) {\n",
    "    credit_train <- credit[-x, ]\n",
    "    credit_test <- credit[x, ]\n",
    "    credit_model <- C5.0(default ~ ., data = credit_train)\n",
    "    credit_pred <- predict(credit_model, credit_test)\n",
    "    credit_actual <- credit_test$default\n",
    "    kappa <- kappa2(data.frame(credit_actual, credit_pred))$value\n",
    "    return(kappa)\n",
    "  })\n",
    "str(cv_results)"
   ]
  },
  {
   "cell_type": "code",
   "execution_count": 28,
   "metadata": {},
   "outputs": [
    {
     "data": {
      "text/html": [
       "0.319543170828383"
      ],
      "text/latex": [
       "0.319543170828383"
      ],
      "text/markdown": [
       "0.319543170828383"
      ],
      "text/plain": [
       "[1] 0.3195432"
      ]
     },
     "metadata": {},
     "output_type": "display_data"
    }
   ],
   "source": [
    "mean(unlist(cv_results))"
   ]
  },
  {
   "cell_type": "code",
   "execution_count": null,
   "metadata": {
    "collapsed": true
   },
   "outputs": [],
   "source": []
  },
  {
   "cell_type": "code",
   "execution_count": null,
   "metadata": {
    "collapsed": true
   },
   "outputs": [],
   "source": []
  }
 ],
 "metadata": {
  "kernel_info": {
   "name": "python3"
  },
  "kernelspec": {
   "display_name": "R",
   "language": "R",
   "name": "ir"
  },
  "language_info": {
   "codemirror_mode": "r",
   "file_extension": ".r",
   "mimetype": "text/x-r-source",
   "name": "R",
   "pygments_lexer": "r",
   "version": "3.4.3"
  },
  "nteract": {
   "version": "0.7.1"
  }
 },
 "nbformat": 4,
 "nbformat_minor": 2
}
